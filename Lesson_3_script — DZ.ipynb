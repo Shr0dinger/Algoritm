{
 "cells": [
  {
   "cell_type": "markdown",
   "metadata": {
    "id": "6lkWSp5NLMbk"
   },
   "source": [
    "### Урок 3. Классификация. Логистическая регрессия."
   ]
  },
  {
   "cell_type": "code",
   "execution_count": 1,
   "metadata": {
    "id": "zhwkeWtb1O0w"
   },
   "outputs": [],
   "source": [
    "import numpy as np\n",
    "import matplotlib.pyplot as plt"
   ]
  },
  {
   "cell_type": "code",
   "execution_count": 2,
   "metadata": {
    "id": "FeKFn2yb1To4"
   },
   "outputs": [],
   "source": [
    "X = np.array([[1, 1, 1, 1, 1, 1, 1, 1, 1, 1],\n",
    "              [1, 1, 2, 5, 3, 0, 5, 10, 1, 2],\n",
    "              [500, 700, 750, 600, 1450, 800, 1500, 2000, 450, 1000],\n",
    "              [1, 1, 2, 1, 2,  1, 3, 3, 1, 2]], dtype = np.float64)\n",
    "y = np.array([0, 0, 1, 0, 1, 0, 1, 0, 1, 1], dtype = np.float64)"
   ]
  },
  {
   "cell_type": "code",
   "execution_count": 3,
   "metadata": {},
   "outputs": [],
   "source": [
    "np.set_printoptions(precision=3)\n",
    "np.set_printoptions(suppress=True)"
   ]
  },
  {
   "cell_type": "code",
   "execution_count": 4,
   "metadata": {
    "colab": {
     "base_uri": "https://localhost:8080/",
     "height": 155
    },
    "id": "yXSj4nbxHsFd",
    "outputId": "8d102d54-94bf-4acc-d5b8-d60da152b953"
   },
   "outputs": [
    {
     "data": {
      "text/plain": [
       "array([[   1.,    1.,    1.,    1.,    1.,    1.,    1.,    1.,    1.,\n",
       "           1.],\n",
       "       [   1.,    1.,    2.,    5.,    3.,    0.,    5.,   10.,    1.,\n",
       "           2.],\n",
       "       [ 500.,  700.,  750.,  600., 1450.,  800., 1500., 2000.,  450.,\n",
       "        1000.],\n",
       "       [   1.,    1.,    2.,    1.,    2.,    1.,    3.,    3.,    1.,\n",
       "           2.]])"
      ]
     },
     "execution_count": 4,
     "metadata": {},
     "output_type": "execute_result"
    }
   ],
   "source": [
    "X"
   ]
  },
  {
   "cell_type": "code",
   "execution_count": 5,
   "metadata": {
    "colab": {
     "base_uri": "https://localhost:8080/",
     "height": 34
    },
    "id": "QU0A16vZHugZ",
    "outputId": "71d74b95-77f4-41a7-e339-c9e7b2004e4b"
   },
   "outputs": [
    {
     "data": {
      "text/plain": [
       "array([0., 0., 1., 0., 1., 0., 1., 0., 1., 1.])"
      ]
     },
     "execution_count": 5,
     "metadata": {},
     "output_type": "execute_result"
    }
   ],
   "source": [
    "y"
   ]
  },
  {
   "cell_type": "code",
   "execution_count": 6,
   "metadata": {
    "id": "M-aO1NTxOUfo"
   },
   "outputs": [],
   "source": [
    "def calc_std_feat(x):\n",
    "    res = (x - x.mean()) / x.std()\n",
    "    return res"
   ]
  },
  {
   "cell_type": "code",
   "execution_count": 7,
   "metadata": {
    "id": "D8EL0iGJOVpe"
   },
   "outputs": [],
   "source": [
    "X_st = X.copy()\n",
    "X_st[2, :] = calc_std_feat(X[2, :])"
   ]
  },
  {
   "cell_type": "code",
   "execution_count": 8,
   "metadata": {
    "colab": {
     "base_uri": "https://localhost:8080/",
     "height": 155
    },
    "id": "gviMxz7EOuI3",
    "outputId": "af9a2576-f4d7-41d7-e216-46e0a068cfad"
   },
   "outputs": [
    {
     "data": {
      "text/plain": [
       "array([[ 1.   ,  1.   ,  1.   ,  1.   ,  1.   ,  1.   ,  1.   ,  1.   ,\n",
       "         1.   ,  1.   ],\n",
       "       [ 1.   ,  1.   ,  2.   ,  5.   ,  3.   ,  0.   ,  5.   , 10.   ,\n",
       "         1.   ,  2.   ],\n",
       "       [-0.98 , -0.567, -0.464, -0.773,  0.98 , -0.361,  1.083,  2.114,\n",
       "        -1.083,  0.052],\n",
       "       [ 1.   ,  1.   ,  2.   ,  1.   ,  2.   ,  1.   ,  3.   ,  3.   ,\n",
       "         1.   ,  2.   ]])"
      ]
     },
     "execution_count": 8,
     "metadata": {},
     "output_type": "execute_result"
    }
   ],
   "source": [
    "X_st"
   ]
  },
  {
   "cell_type": "markdown",
   "metadata": {},
   "source": [
    "### Функцию изменяем с помощью проверки данных в цикле по всем элементам:"
   ]
  },
  {
   "cell_type": "code",
   "execution_count": 9,
   "metadata": {
    "id": "qMR5pOA38dDw"
   },
   "outputs": [],
   "source": [
    "def calc_logloss(y, y_pred):\n",
    "    \n",
    "# Проверка на корректность данных и необходимое изменение\n",
    "    for i in range(len(y_pred)):\n",
    "        if y_pred[i] == 0:\n",
    "            y_pred[i] = 0.1\n",
    "        elif y_pred[i] == 1:\n",
    "            y_pred[i] = 0.9\n",
    "        else:\n",
    "            y_pred[i] = y_pred[i]\n",
    "    \n",
    "    err = - np.mean(y * np.log(y_pred) + (1.0 - y) * np.log(1.0 - y_pred))\n",
    "    err = np.sum(err)\n",
    "    return err"
   ]
  },
  {
   "cell_type": "code",
   "execution_count": 10,
   "metadata": {
    "colab": {
     "base_uri": "https://localhost:8080/",
     "height": 34
    },
    "id": "R6zfOHMrBvnX",
    "outputId": "46df0625-963f-4401-da30-b5b42bcf1be7"
   },
   "outputs": [
    {
     "data": {
      "text/plain": [
       "0.10536051565782628"
      ]
     },
     "execution_count": 10,
     "metadata": {},
     "output_type": "execute_result"
    }
   ],
   "source": [
    "# Пример применения\n",
    "y1 = np.array([1, 0])\n",
    "y_pred1 = np.array([0.9, 0.1])\n",
    "calc_logloss(y1, y_pred1)"
   ]
  },
  {
   "cell_type": "markdown",
   "metadata": {},
   "source": [
    "### Пример с некорректными данными (0 и 1):"
   ]
  },
  {
   "cell_type": "code",
   "execution_count": 11,
   "metadata": {},
   "outputs": [
    {
     "data": {
      "text/plain": [
       "0.10536051565782628"
      ]
     },
     "execution_count": 11,
     "metadata": {},
     "output_type": "execute_result"
    }
   ],
   "source": [
    "# Пример с некорректными данными\n",
    "y1 = np.array([1, 0])\n",
    "y_pred1 = np.array([1.0, 0.0])\n",
    "calc_logloss(y1, y_pred1)"
   ]
  },
  {
   "cell_type": "code",
   "execution_count": 12,
   "metadata": {
    "id": "EEF9rWPNDnss"
   },
   "outputs": [],
   "source": [
    "def sigmoid(z):\n",
    "    res = 1 / (1 + np.exp(-z))\n",
    "    return res"
   ]
  },
  {
   "cell_type": "code",
   "execution_count": 13,
   "metadata": {
    "id": "_9tN8lBEEeXU"
   },
   "outputs": [
    {
     "data": {
      "text/plain": [
       "array([-10. ,  -9.8,  -9.6,  -9.4,  -9.2,  -9. ,  -8.8,  -8.6,  -8.4,\n",
       "        -8.2,  -8. ,  -7.8,  -7.6,  -7.4,  -7.2,  -7. ,  -6.8,  -6.6,\n",
       "        -6.4,  -6.2,  -6. ,  -5.8,  -5.6,  -5.4,  -5.2,  -5. ,  -4.8,\n",
       "        -4.6,  -4.4,  -4.2,  -4. ,  -3.8,  -3.6,  -3.4,  -3.2,  -3. ,\n",
       "        -2.8,  -2.6,  -2.4,  -2.2,  -2. ,  -1.8,  -1.6,  -1.4,  -1.2,\n",
       "        -1. ,  -0.8,  -0.6,  -0.4,  -0.2,   0. ,   0.2,   0.4,   0.6,\n",
       "         0.8,   1. ,   1.2,   1.4,   1.6,   1.8,   2. ,   2.2,   2.4,\n",
       "         2.6,   2.8,   3. ,   3.2,   3.4,   3.6,   3.8,   4. ,   4.2,\n",
       "         4.4,   4.6,   4.8,   5. ,   5.2,   5.4,   5.6,   5.8,   6. ,\n",
       "         6.2,   6.4,   6.6,   6.8,   7. ,   7.2,   7.4,   7.6,   7.8,\n",
       "         8. ,   8.2,   8.4,   8.6,   8.8,   9. ,   9.2,   9.4,   9.6,\n",
       "         9.8,  10. ])"
      ]
     },
     "execution_count": 13,
     "metadata": {},
     "output_type": "execute_result"
    }
   ],
   "source": [
    "z = np.linspace(-10, 10, 101)\n",
    "z"
   ]
  },
  {
   "cell_type": "code",
   "execution_count": 14,
   "metadata": {
    "id": "nvIe3RpbEp4l"
   },
   "outputs": [],
   "source": [
    "probabilities = sigmoid(z)"
   ]
  },
  {
   "cell_type": "code",
   "execution_count": 15,
   "metadata": {
    "colab": {
     "base_uri": "https://localhost:8080/",
     "height": 283
    },
    "id": "jQsCfht0Et1V",
    "outputId": "0c11fcdd-1cf9-49db-aaa7-4fa520ff840a"
   },
   "outputs": [
    {
     "data": {
      "image/png": "[encoded data removed]",
      "text/plain": [
       "<Figure size 432x288 with 1 Axes>"
      ]
     },
     "metadata": {
      "needs_background": "light"
     },
     "output_type": "display_data"
    }
   ],
   "source": [
    "plt.plot(z, probabilities)\n",
    "plt.show()"
   ]
  },
  {
   "cell_type": "markdown",
   "metadata": {
    "id": "e6TH-mkPItb6"
   },
   "source": [
    "Logistic Regression"
   ]
  },
  {
   "cell_type": "markdown",
   "metadata": {},
   "source": [
    "### Изменяем функцию, чтобы печатался только конечный результат:"
   ]
  },
  {
   "cell_type": "code",
   "execution_count": 16,
   "metadata": {
    "id": "qtgUN3LW-UIq"
   },
   "outputs": [],
   "source": [
    "def eval_model(X, y, iterations, alpha):\n",
    "    \n",
    "    np.random.seed(42)\n",
    "    W = np.random.randn(X.shape[0])\n",
    "    n = X.shape[1]\n",
    "    for i in range(1, iterations+1):\n",
    "        z = np.dot(W, X)\n",
    "        y_pred = sigmoid(z)\n",
    "        err = calc_logloss(y, y_pred)\n",
    "        W -= alpha * (1/n * np.dot((y_pred - y), X.T))\n",
    "        \n",
    "#         if i % (iterations / 10) == 0:\n",
    "#             print(f'{i}, {W}, err: {err}')\n",
    "    print(f'iter: {iterations}, alpha: {alpha}, err: {err}')\n",
    "    return W"
   ]
  },
  {
   "cell_type": "markdown",
   "metadata": {},
   "source": [
    "### Путем перебора выявляем лучшие значения аргументов функции:"
   ]
  },
  {
   "cell_type": "code",
   "execution_count": 17,
   "metadata": {},
   "outputs": [
    {
     "name": "stdout",
     "output_type": "stream",
     "text": [
      "iter: 2000, alpha: 10, err: 0.13041609719676558\n",
      "iter: 2000, alpha: 5, err: 0.09829902938584982\n",
      "iter: 2000, alpha: 1, err: 0.19320475766652623\n",
      "iter: 2000, alpha: 0.1, err: 0.32666561318308307\n",
      "iter: 2000, alpha: 0.01, err: 0.4571714465185407\n",
      "iter: 2500, alpha: 10, err: 0.31028271141960573\n",
      "iter: 2500, alpha: 5, err: 0.09417749771601644\n",
      "iter: 2500, alpha: 1, err: 0.18057234210312667\n",
      "iter: 2500, alpha: 0.1, err: 0.3116463738712617\n",
      "iter: 2500, alpha: 0.01, err: 0.44932701037767436\n",
      "iter: 3000, alpha: 10, err: 0.14002001867077135\n",
      "iter: 3000, alpha: 5, err: 0.09069988310480306\n",
      "iter: 3000, alpha: 1, err: 0.1704004680170605\n",
      "iter: 3000, alpha: 0.1, err: 0.29993943858464905\n",
      "iter: 3000, alpha: 0.01, err: 0.4421983321401105\n",
      "iter: 3500, alpha: 10, err: 0.20344628358575534\n",
      "iter: 3500, alpha: 5, err: 0.08768861724274771\n",
      "iter: 3500, alpha: 1, err: 0.16201619735333897\n",
      "iter: 3500, alpha: 0.1, err: 0.29045869781290035\n",
      "iter: 3500, alpha: 0.01, err: 0.4356118658295289\n",
      "iter: 4000, alpha: 10, err: 0.13166089620417926\n",
      "iter: 4000, alpha: 5, err: 0.08502780699118775\n",
      "iter: 4000, alpha: 1, err: 0.15497804437141444\n",
      "iter: 4000, alpha: 0.1, err: 0.28253722160829253\n",
      "iter: 4000, alpha: 0.01, err: 0.4294581074186373\n",
      "iter: 4500, alpha: 10, err: 0.22343788078855797\n",
      "iter: 4500, alpha: 5, err: 0.0826383886529475\n",
      "iter: 4500, alpha: 1, err: 0.14897957551472604\n",
      "iter: 4500, alpha: 0.1, err: 0.27574844881190097\n",
      "iter: 4500, alpha: 0.01, err: 0.42366476699118333\n",
      "iter: 5000, alpha: 10, err: 0.12996359635693616\n",
      "iter: 5000, alpha: 5, err: 0.08046446181100528\n",
      "iter: 5000, alpha: 1, err: 0.14380037965117182\n",
      "iter: 5000, alpha: 0.1, err: 0.2698091230218947\n",
      "iter: 5000, alpha: 0.01, err: 0.41818207186671463\n"
     ]
    }
   ],
   "source": [
    "iterations = [2000, 2500, 3000, 3500, 4000, 4500, 5000]\n",
    "alpha = [10, 5, 1, 1e-1, 1e-2]\n",
    "\n",
    "for i in range(len(iterations)):\n",
    "    for j in range(len(alpha)):\n",
    "        W = eval_model(X_st, y, iterations[i], alpha[j])"
   ]
  },
  {
   "cell_type": "markdown",
   "metadata": {},
   "source": [
    "### После перебора видно, что минимальный err получается при iter - 5000, alpha - 5."
   ]
  },
  {
   "cell_type": "markdown",
   "metadata": {},
   "source": [
    "### В силу того, что мы имеем небольшое количество признаков, небольшое количество наблюдений и используем стандартизацию, вероятность переобучения модели невысокая. "
   ]
  },
  {
   "cell_type": "markdown",
   "metadata": {
    "id": "BZubH-6ULMb8"
   },
   "source": [
    "## Д/з"
   ]
  },
  {
   "cell_type": "markdown",
   "metadata": {
    "id": "G_2a2BxXLMb8"
   },
   "source": [
    "1. Измените функцию calc_logloss так, чтобы нули по возможности не попадали в np.log.\n",
    "2. Подберите аргументы функции eval_model для логистической регрессии таким образом, чтобы log loss был минимальным.\n",
    "3. Создайте функцию calc_pred_proba, возвращающую предсказанную вероятность класса 1 (на вход подаются W, который уже посчитан функцией eval_model и X, на выходе - массив y_pred_proba).\n",
    "4. Создайте функцию calc_pred, возвращающую предсказанный класс (на вход подаются W, который уже посчитан функцией eval_model и X, на выходе - массив y_pred).\n",
    "5. Посчитайте Accuracy, матрицу ошибок, точность и полноту, а также F1 score.\n",
    "6. Могла ли модель переобучиться? Почему?"
   ]
  },
  {
   "cell_type": "code",
   "execution_count": null,
   "metadata": {
    "id": "jp0AQlnkRBWC"
   },
   "outputs": [],
   "source": []
  }
 ],
 "metadata": {
  "colab": {
   "collapsed_sections": [],
   "name": "Lesson_3_script.ipynb",
   "provenance": []
  },
  "kernelspec": {
   "display_name": "Python 3 (ipykernel)",
   "language": "python",
   "name": "python3"
  },
  "language_info": {
   "codemirror_mode": {
    "name": "ipython",
    "version": 3
   },
   "file_extension": ".py",
   "mimetype": "text/x-python",
   "name": "python",
   "nbconvert_exporter": "python",
   "pygments_lexer": "ipython3",
   "version": "3.10.4"
  }
 },
 "nbformat": 4,
 "nbformat_minor": 1
}
