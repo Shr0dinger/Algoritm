{
 "cells": [
  {
   "cell_type": "code",
   "execution_count": 1,
   "id": "5974a54f",
   "metadata": {},
   "outputs": [],
   "source": [
    "from sklearn.tree import DecisionTreeRegressor\n",
    "from sklearn import model_selection\n",
    "import numpy as np\n",
    "from sklearn.datasets import load_diabetes\n",
    "import matplotlib.pyplot as plt\n",
    "import matplotlib\n",
    "%matplotlib inline"
   ]
  },
  {
   "cell_type": "code",
   "execution_count": 2,
   "id": "65e6e186",
   "metadata": {},
   "outputs": [],
   "source": [
    "X, y = load_diabetes(return_X_y=True)\n",
    "X_train, X_test, y_train, y_test = model_selection.train_test_split(X, y, test_size=0.25)"
   ]
  },
  {
   "cell_type": "code",
   "execution_count": 3,
   "id": "be72785f",
   "metadata": {},
   "outputs": [],
   "source": [
    "def gb_predict(X, trees_list, coef_list, eta):\n",
    "    return np.array([sum([eta* coef * alg.predict([x])[0] for alg, coef in zip(trees_list, coef_list)]) for x in X])"
   ]
  },
  {
   "cell_type": "code",
   "execution_count": 4,
   "id": "df3fe7db",
   "metadata": {},
   "outputs": [],
   "source": [
    "def mean_squared_error(y_real, prediction):\n",
    "    return (sum((y_real - prediction)**2)) / len(y_real)"
   ]
  },
  {
   "cell_type": "code",
   "execution_count": 5,
   "id": "9aea7e0f",
   "metadata": {},
   "outputs": [],
   "source": [
    "def bias(y, z):\n",
    "    return (y - z)"
   ]
  },
  {
   "cell_type": "code",
   "execution_count": 6,
   "id": "458ecd1b",
   "metadata": {},
   "outputs": [],
   "source": [
    "def gb_fit(n_trees, max_depth, X_train, X_test, y_train, y_test, coefs, eta):\n",
    "    trees = []\n",
    "    train_errors = []\n",
    "    test_errors = []\n",
    "    \n",
    "    for i in range(n_trees):\n",
    "        tree = DecisionTreeRegressor(max_depth=max_depth, random_state=5)\n",
    "        if len(trees) == 0:\n",
    "            tree.fit(X_train, y_train)\n",
    "            train_errors.append(mean_squared_error(y_train, gb_predict(X_train, trees, coefs, eta)))\n",
    "            test_errors.append(mean_squared_error(y_test, gb_predict(X_test, trees, coefs, eta)))\n",
    "        else:\n",
    "            target = gb_predict(X_train, trees, coefs, eta)\n",
    "            tree.fit(X_train, bias(y_train, target))\n",
    "            train_errors.append(mean_squared_error(y_train, gb_predict(X_train, trees, coefs, eta)))\n",
    "            test_errors.append(mean_squared_error(y_test, gb_predict(X_test, trees, coefs, eta)))\n",
    "\n",
    "        trees.append(tree)\n",
    "        \n",
    "    return trees, train_errors, test_errors"
   ]
  },
  {
   "cell_type": "markdown",
   "id": "7bd3257f",
   "metadata": {},
   "source": [
    "### Для построения графиков объявляем массивы и дополняем функцию для записи в них данных:"
   ]
  },
  {
   "cell_type": "code",
   "execution_count": 7,
   "id": "4f8ec405",
   "metadata": {},
   "outputs": [],
   "source": [
    "tr_gr = []\n",
    "dp_gr = []\n",
    "er_gr_tst = []\n",
    "er_gr_tr = []"
   ]
  },
  {
   "cell_type": "code",
   "execution_count": 8,
   "id": "143d842b",
   "metadata": {},
   "outputs": [],
   "source": [
    "def evaluate_alg(X_train, X_test, y_train, y_test, trees, coefs, eta):\n",
    "    train_prediction = gb_predict(X_train, trees, coefs, eta)\n",
    "    test_prediction = gb_predict(X_test, trees, coefs, eta)\n",
    "    \n",
    "    tr_gr.append(n_trees)\n",
    "    dp_gr.append(max_depth)\n",
    "    er_gr_tst.append(mean_squared_error(y_test, test_prediction))\n",
    "    er_gr_tr.append(mean_squared_error(y_train, train_prediction))\n",
    "    \n",
    "    print(f'Ошибка {n_trees} деревьев глубиной {max_depth} с шагом {eta} на train: {mean_squared_error(y_train, train_prediction)}')\n",
    "    print(f'Ошибка {n_trees} деревьев глубиной {max_depth} с шагом {eta} на test выборке: {mean_squared_error(y_test, test_prediction)}')"
   ]
  },
  {
   "cell_type": "markdown",
   "id": "f809e88c",
   "metadata": {},
   "source": [
    "### Строим модели с изменяющимся количеством деревьев:"
   ]
  },
  {
   "cell_type": "code",
   "execution_count": 9,
   "id": "d6d96eba",
   "metadata": {},
   "outputs": [
    {
     "name": "stdout",
     "output_type": "stream",
     "text": [
      "Ошибка 10 деревьев глубиной 2 с шагом 0.1 на train: 6048.110584653372\n",
      "Ошибка 10 деревьев глубиной 2 с шагом 0.1 на test выборке: 6833.119187001435\n",
      "CPU times: total: 2.08 s\n",
      "Wall time: 2.08 s\n"
     ]
    }
   ],
   "source": [
    "%%time\n",
    "n_trees = 10\n",
    "coefs = [1] * n_trees\n",
    "max_depth = 2\n",
    "eta = 0.1\n",
    "\n",
    "trees, train_errors, test_errors = gb_fit(n_trees, max_depth, X_train, X_test, y_train, y_test, coefs, eta)\n",
    "evaluate_alg(X_train, X_test, y_train, y_test, trees, coefs, eta)"
   ]
  },
  {
   "cell_type": "code",
   "execution_count": 10,
   "id": "4fa3f2b3",
   "metadata": {},
   "outputs": [
    {
     "name": "stdout",
     "output_type": "stream",
     "text": [
      "Ошибка 15 деревьев глубиной 2 с шагом 0.1 на train: 3843.5756264725796\n",
      "Ошибка 15 деревьев глубиной 2 с шагом 0.1 на test выборке: 4510.181796113489\n",
      "CPU times: total: 4.55 s\n",
      "Wall time: 4.54 s\n"
     ]
    }
   ],
   "source": [
    "%%time\n",
    "n_trees = 15\n",
    "coefs = [1] * n_trees\n",
    "max_depth = 2\n",
    "eta = 0.1\n",
    "\n",
    "trees, train_errors, test_errors = gb_fit(n_trees, max_depth, X_train, X_test, y_train, y_test, coefs, eta)\n",
    "evaluate_alg(X_train, X_test, y_train, y_test, trees, coefs, eta)"
   ]
  },
  {
   "cell_type": "code",
   "execution_count": 11,
   "id": "e6dd640c",
   "metadata": {},
   "outputs": [
    {
     "name": "stdout",
     "output_type": "stream",
     "text": [
      "Ошибка 20 деревьев глубиной 2 с шагом 0.1 на train: 2981.173924276966\n",
      "Ошибка 20 деревьев глубиной 2 с шагом 0.1 на test выборке: 3623.7397086543265\n",
      "CPU times: total: 8.14 s\n",
      "Wall time: 8.14 s\n"
     ]
    }
   ],
   "source": [
    "%%time\n",
    "n_trees = 20\n",
    "coefs = [1] * n_trees\n",
    "max_depth = 2\n",
    "eta = 0.1\n",
    "\n",
    "trees, train_errors, test_errors = gb_fit(n_trees, max_depth, X_train, X_test, y_train, y_test, coefs, eta)\n",
    "evaluate_alg(X_train, X_test, y_train, y_test, trees, coefs, eta)"
   ]
  },
  {
   "cell_type": "code",
   "execution_count": 12,
   "id": "bea92cf2",
   "metadata": {},
   "outputs": [
    {
     "name": "stdout",
     "output_type": "stream",
     "text": [
      "Ошибка 25 деревьев глубиной 2 с шагом 0.1 на train: 2602.7688682293283\n",
      "Ошибка 25 деревьев глубиной 2 с шагом 0.1 на test выборке: 3315.3957611179203\n",
      "CPU times: total: 13.6 s\n",
      "Wall time: 13.6 s\n"
     ]
    }
   ],
   "source": [
    "%%time\n",
    "n_trees = 25\n",
    "coefs = [1] * n_trees\n",
    "max_depth = 2\n",
    "eta = 0.1\n",
    "\n",
    "trees, train_errors, test_errors = gb_fit(n_trees, max_depth, X_train, X_test, y_train, y_test, coefs, eta)\n",
    "evaluate_alg(X_train, X_test, y_train, y_test, trees, coefs, eta)"
   ]
  },
  {
   "cell_type": "code",
   "execution_count": 13,
   "id": "4a305897",
   "metadata": {},
   "outputs": [
    {
     "name": "stdout",
     "output_type": "stream",
     "text": [
      "Ошибка 30 деревьев глубиной 2 с шагом 0.1 на train: 2400.986187796745\n",
      "Ошибка 30 деревьев глубиной 2 с шагом 0.1 на test выборке: 3170.8009825404556\n",
      "CPU times: total: 18.7 s\n",
      "Wall time: 18.7 s\n"
     ]
    }
   ],
   "source": [
    "%%time\n",
    "n_trees = 30\n",
    "coefs = [1] * n_trees\n",
    "max_depth = 2\n",
    "eta = 0.1\n",
    "\n",
    "trees, train_errors, test_errors = gb_fit(n_trees, max_depth, X_train, X_test, y_train, y_test, coefs, eta)\n",
    "evaluate_alg(X_train, X_test, y_train, y_test, trees, coefs, eta)"
   ]
  },
  {
   "cell_type": "markdown",
   "id": "a9ca9fd0",
   "metadata": {},
   "source": [
    "### Записываем данные для первого графика"
   ]
  },
  {
   "cell_type": "code",
   "execution_count": 14,
   "id": "556ed6a8",
   "metadata": {},
   "outputs": [],
   "source": [
    "x1 = tr_gr\n",
    "y1 = er_gr_tst\n",
    "y11 = er_gr_tr"
   ]
  },
  {
   "cell_type": "markdown",
   "id": "2d2b2971",
   "metadata": {},
   "source": [
    "### Обнуляем массивы и строим модели с изменяющейся глубиной:"
   ]
  },
  {
   "cell_type": "code",
   "execution_count": 15,
   "id": "a6275750",
   "metadata": {},
   "outputs": [],
   "source": [
    "tr_gr = []\n",
    "dp_gr = []\n",
    "er_gr_tst = []\n",
    "er_gr_tr = []"
   ]
  },
  {
   "cell_type": "code",
   "execution_count": 16,
   "id": "0ffeec7c",
   "metadata": {},
   "outputs": [
    {
     "name": "stdout",
     "output_type": "stream",
     "text": [
      "Ошибка 10 деревьев глубиной 1 с шагом 0.1 на train: 6605.129456034838\n",
      "Ошибка 10 деревьев глубиной 1 с шагом 0.1 на test выборке: 7618.317928393838\n",
      "CPU times: total: 2.05 s\n",
      "Wall time: 2.02 s\n"
     ]
    }
   ],
   "source": [
    "%%time\n",
    "n_trees = 10\n",
    "coefs = [1] * n_trees\n",
    "max_depth = 1\n",
    "eta = 0.1\n",
    "\n",
    "trees, train_errors, test_errors = gb_fit(n_trees, max_depth, X_train, X_test, y_train, y_test, coefs, eta)\n",
    "evaluate_alg(X_train, X_test, y_train, y_test, trees, coefs, eta)"
   ]
  },
  {
   "cell_type": "code",
   "execution_count": 17,
   "id": "c5547350",
   "metadata": {},
   "outputs": [
    {
     "name": "stdout",
     "output_type": "stream",
     "text": [
      "Ошибка 10 деревьев глубиной 2 с шагом 0.1 на train: 6048.110584653372\n",
      "Ошибка 10 деревьев глубиной 2 с шагом 0.1 на test выборке: 6833.119187001435\n",
      "CPU times: total: 2.09 s\n",
      "Wall time: 2.08 s\n"
     ]
    }
   ],
   "source": [
    "%%time\n",
    "n_trees = 10\n",
    "coefs = [1] * n_trees\n",
    "max_depth = 2\n",
    "eta = 0.1\n",
    "\n",
    "trees, train_errors, test_errors = gb_fit(n_trees, max_depth, X_train, X_test, y_train, y_test, coefs, eta)\n",
    "evaluate_alg(X_train, X_test, y_train, y_test, trees, coefs, eta)"
   ]
  },
  {
   "cell_type": "code",
   "execution_count": 18,
   "id": "a353d6df",
   "metadata": {},
   "outputs": [
    {
     "name": "stdout",
     "output_type": "stream",
     "text": [
      "Ошибка 10 деревьев глубиной 3 с шагом 0.1 на train: 5665.989285985342\n",
      "Ошибка 10 деревьев глубиной 3 с шагом 0.1 на test выборке: 6650.933094981601\n",
      "CPU times: total: 2.12 s\n",
      "Wall time: 2.11 s\n"
     ]
    }
   ],
   "source": [
    "%%time\n",
    "n_trees = 10\n",
    "coefs = [1] * n_trees\n",
    "max_depth = 3\n",
    "eta = 0.1\n",
    "\n",
    "trees, train_errors, test_errors = gb_fit(n_trees, max_depth, X_train, X_test, y_train, y_test, coefs, eta)\n",
    "evaluate_alg(X_train, X_test, y_train, y_test, trees, coefs, eta)"
   ]
  },
  {
   "cell_type": "code",
   "execution_count": 19,
   "id": "1dcd2b35",
   "metadata": {},
   "outputs": [
    {
     "name": "stdout",
     "output_type": "stream",
     "text": [
      "Ошибка 10 деревьев глубиной 4 с шагом 0.1 на train: 5167.932043769518\n",
      "Ошибка 10 деревьев глубиной 4 с шагом 0.1 на test выборке: 6754.034724030798\n",
      "CPU times: total: 2 s\n",
      "Wall time: 1.98 s\n"
     ]
    }
   ],
   "source": [
    "%%time\n",
    "n_trees = 10\n",
    "coefs = [1] * n_trees\n",
    "max_depth = 4\n",
    "eta = 0.1\n",
    "\n",
    "trees, train_errors, test_errors = gb_fit(n_trees, max_depth, X_train, X_test, y_train, y_test, coefs, eta)\n",
    "evaluate_alg(X_train, X_test, y_train, y_test, trees, coefs, eta)"
   ]
  },
  {
   "cell_type": "code",
   "execution_count": 20,
   "id": "fb80da44",
   "metadata": {},
   "outputs": [
    {
     "name": "stdout",
     "output_type": "stream",
     "text": [
      "Ошибка 10 деревьев глубиной 5 с шагом 0.1 на train: 4697.220812543645\n",
      "Ошибка 10 деревьев глубиной 5 с шагом 0.1 на test выборке: 6948.209092064989\n",
      "CPU times: total: 2.12 s\n",
      "Wall time: 2.11 s\n"
     ]
    }
   ],
   "source": [
    "%%time\n",
    "n_trees = 10\n",
    "coefs = [1] * n_trees\n",
    "max_depth = 5\n",
    "eta = 0.1\n",
    "\n",
    "trees, train_errors, test_errors = gb_fit(n_trees, max_depth, X_train, X_test, y_train, y_test, coefs, eta)\n",
    "evaluate_alg(X_train, X_test, y_train, y_test, trees, coefs, eta)"
   ]
  },
  {
   "cell_type": "code",
   "execution_count": 21,
   "id": "8feba287",
   "metadata": {},
   "outputs": [],
   "source": [
    "x2 = dp_gr\n",
    "y2 = er_gr_tst\n",
    "y22 = er_gr_tr"
   ]
  },
  {
   "cell_type": "markdown",
   "id": "bb8d3ca4",
   "metadata": {},
   "source": [
    "### Обнуляем массивы и строим модели с увеличивающейся глубиной и количеством деревьев глубиной:"
   ]
  },
  {
   "cell_type": "code",
   "execution_count": 22,
   "id": "b67ebf26",
   "metadata": {},
   "outputs": [],
   "source": [
    "tr_gr = []\n",
    "dp_gr = []\n",
    "er_gr_tst = []\n",
    "er_gr_tr = []"
   ]
  },
  {
   "cell_type": "code",
   "execution_count": 23,
   "id": "38b786d9",
   "metadata": {},
   "outputs": [
    {
     "name": "stdout",
     "output_type": "stream",
     "text": [
      "Ошибка 10 деревьев глубиной 1 с шагом 0.1 на train: 6605.129456034838\n",
      "Ошибка 10 деревьев глубиной 1 с шагом 0.1 на test выборке: 7618.317928393838\n",
      "CPU times: total: 2.19 s\n",
      "Wall time: 2.2 s\n"
     ]
    }
   ],
   "source": [
    "%%time\n",
    "n_trees = 10\n",
    "coefs = [1] * n_trees\n",
    "max_depth = 1\n",
    "eta = 0.1\n",
    "\n",
    "trees, train_errors, test_errors = gb_fit(n_trees, max_depth, X_train, X_test, y_train, y_test, coefs, eta)\n",
    "evaluate_alg(X_train, X_test, y_train, y_test, trees, coefs, eta)"
   ]
  },
  {
   "cell_type": "code",
   "execution_count": 24,
   "id": "bb4fa6d5",
   "metadata": {},
   "outputs": [
    {
     "name": "stdout",
     "output_type": "stream",
     "text": [
      "Ошибка 15 деревьев глубиной 2 с шагом 0.1 на train: 3843.5756264725796\n",
      "Ошибка 15 деревьев глубиной 2 с шагом 0.1 на test выборке: 4510.181796113489\n",
      "CPU times: total: 4.78 s\n",
      "Wall time: 4.76 s\n"
     ]
    }
   ],
   "source": [
    "%%time\n",
    "n_trees = 15\n",
    "coefs = [1] * n_trees\n",
    "max_depth = 2\n",
    "eta = 0.1\n",
    "\n",
    "trees, train_errors, test_errors = gb_fit(n_trees, max_depth, X_train, X_test, y_train, y_test, coefs, eta)\n",
    "evaluate_alg(X_train, X_test, y_train, y_test, trees, coefs, eta)"
   ]
  },
  {
   "cell_type": "code",
   "execution_count": 25,
   "id": "4f2ddf46",
   "metadata": {},
   "outputs": [
    {
     "name": "stdout",
     "output_type": "stream",
     "text": [
      "Ошибка 20 деревьев глубиной 3 с шагом 0.1 на train: 2443.20920219432\n",
      "Ошибка 20 деревьев глубиной 3 с шагом 0.1 на test выборке: 3680.477287204844\n",
      "CPU times: total: 8.3 s\n",
      "Wall time: 8.26 s\n"
     ]
    }
   ],
   "source": [
    "%%time\n",
    "n_trees = 20\n",
    "coefs = [1] * n_trees\n",
    "max_depth = 3\n",
    "eta = 0.1\n",
    "\n",
    "trees, train_errors, test_errors = gb_fit(n_trees, max_depth, X_train, X_test, y_train, y_test, coefs, eta)\n",
    "evaluate_alg(X_train, X_test, y_train, y_test, trees, coefs, eta)"
   ]
  },
  {
   "cell_type": "code",
   "execution_count": 26,
   "id": "482150ab",
   "metadata": {},
   "outputs": [
    {
     "name": "stdout",
     "output_type": "stream",
     "text": [
      "Ошибка 25 деревьев глубиной 4 с шагом 0.1 на train: 1412.0989456285035\n",
      "Ошибка 25 деревьев глубиной 4 с шагом 0.1 на test выборке: 3568.6262641340245\n",
      "CPU times: total: 12.6 s\n",
      "Wall time: 12.6 s\n"
     ]
    }
   ],
   "source": [
    "%%time\n",
    "n_trees = 25\n",
    "coefs = [1] * n_trees\n",
    "max_depth = 4\n",
    "eta = 0.1\n",
    "\n",
    "trees, train_errors, test_errors = gb_fit(n_trees, max_depth, X_train, X_test, y_train, y_test, coefs, eta)\n",
    "evaluate_alg(X_train, X_test, y_train, y_test, trees, coefs, eta)"
   ]
  },
  {
   "cell_type": "code",
   "execution_count": 27,
   "id": "80d138bd",
   "metadata": {},
   "outputs": [
    {
     "name": "stdout",
     "output_type": "stream",
     "text": [
      "Ошибка 30 деревьев глубиной 5 с шагом 0.1 на train: 617.7391487506497\n",
      "Ошибка 30 деревьев глубиной 5 с шагом 0.1 на test выборке: 3860.1966240313004\n",
      "CPU times: total: 17.9 s\n",
      "Wall time: 17.9 s\n"
     ]
    }
   ],
   "source": [
    "%%time\n",
    "n_trees = 30\n",
    "coefs = [1] * n_trees\n",
    "max_depth = 5\n",
    "eta = 0.1\n",
    "\n",
    "trees, train_errors, test_errors = gb_fit(n_trees, max_depth, X_train, X_test, y_train, y_test, coefs, eta)\n",
    "evaluate_alg(X_train, X_test, y_train, y_test, trees, coefs, eta)"
   ]
  },
  {
   "cell_type": "code",
   "execution_count": 28,
   "id": "c7ef8c8b",
   "metadata": {},
   "outputs": [],
   "source": [
    "x3 = [1,2,3,4,5]\n",
    "y3 = er_gr_tst\n",
    "y33 = er_gr_tr"
   ]
  },
  {
   "cell_type": "markdown",
   "id": "ffb7058e",
   "metadata": {},
   "source": [
    "### Обнуляем массивы и строим модели с уменьшающейся глубиной и увеличивающемся количеством деревьев:"
   ]
  },
  {
   "cell_type": "code",
   "execution_count": 29,
   "id": "9a997bee",
   "metadata": {},
   "outputs": [],
   "source": [
    "tr_gr = []\n",
    "dp_gr = []\n",
    "er_gr_tst = []\n",
    "er_gr_tr = []"
   ]
  },
  {
   "cell_type": "code",
   "execution_count": 30,
   "id": "a056e33a",
   "metadata": {},
   "outputs": [
    {
     "name": "stdout",
     "output_type": "stream",
     "text": [
      "Ошибка 10 деревьев глубиной 5 с шагом 0.1 на train: 4697.220812543645\n",
      "Ошибка 10 деревьев глубиной 5 с шагом 0.1 на test выборке: 6948.209092064989\n",
      "CPU times: total: 2.08 s\n",
      "Wall time: 2.08 s\n"
     ]
    }
   ],
   "source": [
    "%%time\n",
    "n_trees = 10\n",
    "coefs = [1] * n_trees\n",
    "max_depth = 5\n",
    "eta = 0.1\n",
    "\n",
    "trees, train_errors, test_errors = gb_fit(n_trees, max_depth, X_train, X_test, y_train, y_test, coefs, eta)\n",
    "evaluate_alg(X_train, X_test, y_train, y_test, trees, coefs, eta)"
   ]
  },
  {
   "cell_type": "code",
   "execution_count": 31,
   "id": "97b1cf1c",
   "metadata": {},
   "outputs": [
    {
     "name": "stdout",
     "output_type": "stream",
     "text": [
      "Ошибка 15 деревьев глубиной 4 с шагом 0.1 на train: 2813.463523222021\n",
      "Ошибка 15 деревьев глубиной 4 с шагом 0.1 на test выборке: 4517.7591028456245\n",
      "CPU times: total: 4.61 s\n",
      "Wall time: 4.62 s\n"
     ]
    }
   ],
   "source": [
    "%%time\n",
    "n_trees = 15\n",
    "coefs = [1] * n_trees\n",
    "max_depth = 4\n",
    "eta = 0.1\n",
    "\n",
    "trees, train_errors, test_errors = gb_fit(n_trees, max_depth, X_train, X_test, y_train, y_test, coefs, eta)\n",
    "evaluate_alg(X_train, X_test, y_train, y_test, trees, coefs, eta)"
   ]
  },
  {
   "cell_type": "code",
   "execution_count": 32,
   "id": "e5a56a38",
   "metadata": {},
   "outputs": [
    {
     "name": "stdout",
     "output_type": "stream",
     "text": [
      "Ошибка 20 деревьев глубиной 3 с шагом 0.1 на train: 2443.20920219432\n",
      "Ошибка 20 деревьев глубиной 3 с шагом 0.1 на test выборке: 3680.477287204844\n",
      "CPU times: total: 8 s\n",
      "Wall time: 8.01 s\n"
     ]
    }
   ],
   "source": [
    "%%time\n",
    "n_trees = 20\n",
    "coefs = [1] * n_trees\n",
    "max_depth = 3\n",
    "eta = 0.1\n",
    "\n",
    "trees, train_errors, test_errors = gb_fit(n_trees, max_depth, X_train, X_test, y_train, y_test, coefs, eta)\n",
    "evaluate_alg(X_train, X_test, y_train, y_test, trees, coefs, eta)"
   ]
  },
  {
   "cell_type": "code",
   "execution_count": 33,
   "id": "c3b62865",
   "metadata": {},
   "outputs": [
    {
     "name": "stdout",
     "output_type": "stream",
     "text": [
      "Ошибка 25 деревьев глубиной 2 с шагом 0.1 на train: 2602.7688682293283\n",
      "Ошибка 25 деревьев глубиной 2 с шагом 0.1 на test выборке: 3315.3957611179203\n",
      "CPU times: total: 12.7 s\n",
      "Wall time: 12.6 s\n"
     ]
    }
   ],
   "source": [
    "%%time\n",
    "n_trees = 25\n",
    "coefs = [1] * n_trees\n",
    "max_depth = 2\n",
    "eta = 0.1\n",
    "\n",
    "trees, train_errors, test_errors = gb_fit(n_trees, max_depth, X_train, X_test, y_train, y_test, coefs, eta)\n",
    "evaluate_alg(X_train, X_test, y_train, y_test, trees, coefs, eta)"
   ]
  },
  {
   "cell_type": "code",
   "execution_count": 34,
   "id": "f6a52484",
   "metadata": {},
   "outputs": [
    {
     "name": "stdout",
     "output_type": "stream",
     "text": [
      "Ошибка 30 деревьев глубиной 1 с шагом 0.1 на train: 2976.5395756516123\n",
      "Ошибка 30 деревьев глубиной 1 с шагом 0.1 на test выборке: 3486.7158351374574\n",
      "CPU times: total: 18 s\n",
      "Wall time: 18 s\n"
     ]
    }
   ],
   "source": [
    "%%time\n",
    "n_trees = 30\n",
    "coefs = [1] * n_trees\n",
    "max_depth = 1\n",
    "eta = 0.1\n",
    "\n",
    "trees, train_errors, test_errors = gb_fit(n_trees, max_depth, X_train, X_test, y_train, y_test, coefs, eta)\n",
    "evaluate_alg(X_train, X_test, y_train, y_test, trees, coefs, eta)"
   ]
  },
  {
   "cell_type": "code",
   "execution_count": 35,
   "id": "8b69e588",
   "metadata": {},
   "outputs": [],
   "source": [
    "x4 = [1,2,3,4,5]\n",
    "y4 = er_gr_tst\n",
    "y44 = er_gr_tr"
   ]
  },
  {
   "cell_type": "code",
   "execution_count": 40,
   "id": "e0bc70b3",
   "metadata": {},
   "outputs": [
    {
     "data": {
      "image/png": "[encoded data removed]",
      "text/plain": [
       "<Figure size 1440x864 with 4 Axes>"
      ]
     },
     "metadata": {
      "needs_background": "light"
     },
     "output_type": "display_data"
    }
   ],
   "source": [
    "plt.figure(figsize=(20, 12))\n",
    "plt.subplot(2, 2, 1)\n",
    "plt.plot(x1, y1, color='g', label = 'test', marker = 'o')\n",
    "plt.plot(x1, y11, color='r', label = 'train', marker = 'o')\n",
    "plt.title('Увеличиваются деревья, глубина - 2')\n",
    "plt.xlabel('trees num')\n",
    "plt.ylabel('error')\n",
    "plt.legend(loc = 'center', shadow = True, fontsize = 15)\n",
    "plt.grid(True)\n",
    "plt.subplot(2, 2, 2)\n",
    "plt.plot(x2, y2, color='g', label = 'test', marker = 'o')\n",
    "plt.plot(x2, y22, color='r', label = 'train', marker = 'o')\n",
    "plt.title('Увеличивается глубина, деревья - 10')\n",
    "plt.xlabel('deep')\n",
    "plt.ylabel('error')\n",
    "plt.legend(loc = 'center', shadow = True, fontsize = 15)\n",
    "plt.grid(True)\n",
    "plt.subplot(2, 2, 3)\n",
    "plt.plot(x3, y3, color='g', label = 'test', marker = 'o')\n",
    "plt.plot(x3, y33, color='r', label = 'train', marker = 'o')\n",
    "plt.title('Увеличиваются деревья и глубина')\n",
    "plt.xlabel('Iteration number')\n",
    "plt.ylabel('error')\n",
    "plt.legend(loc = 'center', shadow = True, fontsize = 15)\n",
    "plt.grid(True)\n",
    "plt.subplot(2, 2, 4)\n",
    "plt.plot(x4, y4, color='g', label = 'test', marker = 'o')\n",
    "plt.plot(x4, y44, color='r', label = 'train', marker = 'o')\n",
    "plt.title('Увеличиваются деревья и уменьшающаяся глубина')\n",
    "plt.xlabel('Iteration number')\n",
    "plt.ylabel('error')\n",
    "plt.legend(loc = 'center', shadow = True, fontsize = 15)\n",
    "plt.grid(True)"
   ]
  },
  {
   "cell_type": "markdown",
   "id": "d387f204",
   "metadata": {},
   "source": [
    "### Вывод: при увеличении глубины с неизменным количеством деревьев и одновременном увеличении глубны и количества деревьев наблюдается переобучение модели. При увеличении только количества деревьев наблюдается улучшение результата, но значительно возрастает время обработки данных. Оптимальный результат найден при увеличении количества деревьев и уменьшении глубины (25 деревьев с глубиной 2). Следовательно, для достижения наилучшего результата, следует в разумных пределах увеличивать количество деревьев при небольшой глубине."
   ]
  },
  {
   "cell_type": "code",
   "execution_count": null,
   "id": "a8436172",
   "metadata": {},
   "outputs": [],
   "source": []
  }
 ],
 "metadata": {
  "kernelspec": {
   "display_name": "Python 3 (ipykernel)",
   "language": "python",
   "name": "python3"
  },
  "language_info": {
   "codemirror_mode": {
    "name": "ipython",
    "version": 3
   },
   "file_extension": ".py",
   "mimetype": "text/x-python",
   "name": "python",
   "nbconvert_exporter": "python",
   "pygments_lexer": "ipython3",
   "version": "3.10.4"
  }
 },
 "nbformat": 4,
 "nbformat_minor": 5
}
